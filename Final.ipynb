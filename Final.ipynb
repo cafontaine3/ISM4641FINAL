{
 "cells": [
  {
   "cell_type": "markdown",
   "id": "0a463cff",
   "metadata": {},
   "source": [
    "Group 2 Final\n",
    "Tiffany Young, Colby Fontaine and Karissa Neverson"
   ]
  },
  {
   "cell_type": "code",
   "execution_count": null,
   "id": "bbcf24d0",
   "metadata": {},
   "outputs": [],
   "source": []
  }
 ],
 "metadata": {
  "kernelspec": {
   "display_name": "Python 3 (ipykernel)",
   "language": "python",
   "name": "python3"
  },
  "language_info": {
   "codemirror_mode": {
    "name": "ipython",
    "version": 3
   },
   "file_extension": ".py",
   "mimetype": "text/x-python",
   "name": "python",
   "nbconvert_exporter": "python",
   "pygments_lexer": "ipython3",
   "version": "3.10.9"
  }
 },
 "nbformat": 4,
 "nbformat_minor": 5
}
